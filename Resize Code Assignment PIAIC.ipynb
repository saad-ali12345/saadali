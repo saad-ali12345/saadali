{
 "cells": [
  {
   "cell_type": "code",
   "execution_count": 2,
   "metadata": {},
   "outputs": [
    {
     "name": "stdout",
     "output_type": "stream",
     "text": [
      "Found directory: E:\\Saad Picture\n",
      "\tE:\\Saad Picture\\1.jpg\n",
      "\tE:\\Saad Picture\\10.jpg\n",
      "\tE:\\Saad Picture\\11.jpg\n",
      "\tE:\\Saad Picture\\12.jpg\n",
      "\tE:\\Saad Picture\\13.jpg\n",
      "\tE:\\Saad Picture\\14.jpg\n",
      "\tE:\\Saad Picture\\15.jpg\n",
      "\tE:\\Saad Picture\\16.jpg\n",
      "\tE:\\Saad Picture\\17.jpg\n",
      "\tE:\\Saad Picture\\18.jpg\n",
      "\tE:\\Saad Picture\\19+.jpg\n",
      "\tE:\\Saad Picture\\2.jpg\n",
      "\tE:\\Saad Picture\\20.jpg\n",
      "\tE:\\Saad Picture\\3.jpg\n",
      "\tE:\\Saad Picture\\4.jpg\n",
      "\tE:\\Saad Picture\\5.jpg\n",
      "\tE:\\Saad Picture\\6.jpg\n",
      "\tE:\\Saad Picture\\7.jpg\n",
      "\tE:\\Saad Picture\\8.jpg\n",
      "\tE:\\Saad Picture\\9.jpg\n"
     ]
    }
   ],
   "source": [
    "import os\n",
    "#import numpy\n",
    "import PIL\n",
    "from PIL import Image\n",
    "\n",
    "rootDir = 'E:\\Saad Picture'\n",
    "resizeDir = 'E:\\Saad resizedimages'\n",
    "\n",
    "for dirName, subdirList, fileList in os.walk(rootDir):\n",
    "    print('Found directory: %s' % dirName)\n",
    "    \n",
    "    for fname in fileList:\n",
    "        print('\\t%s' % dirName+'\\\\' + fname)\n",
    "        img = Image.open(dirName+'\\\\' + fname)\n",
    "        img = img.resize((200, 200), PIL.Image.ANTIALIAS)\n",
    "        img.save(resizeDir + '\\\\'+ fname) \n"
   ]
  },
  {
   "cell_type": "code",
   "execution_count": null,
   "metadata": {},
   "outputs": [],
   "source": []
  }
 ],
 "metadata": {
  "kernelspec": {
   "display_name": "Python 3",
   "language": "python",
   "name": "python3"
  },
  "language_info": {
   "codemirror_mode": {
    "name": "ipython",
    "version": 3
   },
   "file_extension": ".py",
   "mimetype": "text/x-python",
   "name": "python",
   "nbconvert_exporter": "python",
   "pygments_lexer": "ipython3",
   "version": "3.7.3"
  }
 },
 "nbformat": 4,
 "nbformat_minor": 2
}
